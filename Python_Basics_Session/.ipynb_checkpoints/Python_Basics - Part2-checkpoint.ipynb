{
 "cells": [
  {
   "cell_type": "markdown",
   "id": "under-differential",
   "metadata": {
    "slideshow": {
     "slide_type": "slide"
    }
   },
   "source": [
    "<h1><font face= \"Helvetica\" color = #2a7bbd> Comprehensions</font></h1>"
   ]
  },
  {
   "cell_type": "code",
   "execution_count": 1,
   "id": "configured-phenomenon",
   "metadata": {
    "scrolled": true,
    "slideshow": {
     "slide_type": "subslide"
    }
   },
   "outputs": [],
   "source": [
    "# List Comprehension"
   ]
  },
  {
   "cell_type": "code",
   "execution_count": 2,
   "id": "fitting-actor",
   "metadata": {
    "slideshow": {
     "slide_type": "subslide"
    }
   },
   "outputs": [],
   "source": [
    "# Set Comprehension\n"
   ]
  },
  {
   "cell_type": "code",
   "execution_count": 3,
   "id": "comparable-release",
   "metadata": {
    "slideshow": {
     "slide_type": "subslide"
    }
   },
   "outputs": [],
   "source": [
    "# Dictionary Comprehension"
   ]
  },
  {
   "cell_type": "markdown",
   "id": "handmade-warrior",
   "metadata": {
    "slideshow": {
     "slide_type": "slide"
    }
   },
   "source": [
    "<h1><font face= \"Helvetica\" color = #2a7bbd> Methods</font></h1>"
   ]
  },
  {
   "cell_type": "markdown",
   "id": "pointed-earthquake",
   "metadata": {
    "slideshow": {
     "slide_type": "subslide"
    }
   },
   "source": [
    "<h5><font face= \"Helvetica\" color = #5f6a6a>1. Method is called by its name, but it is associated to an object (dependent)<br><br>\n",
    "2. Method is implicitly passed the object on which it is invoked. <br><bR>\n",
    "3. It may or may not return any data.<br><br>\n",
    "4. Method can operate on the data (instance variables) that is contained by a class</font></h5>"
   ]
  },
  {
   "cell_type": "markdown",
   "id": "legal-toyota",
   "metadata": {
    "slideshow": {
     "slide_type": "slide"
    }
   },
   "source": [
    "<h2><font face= \"Helvetica\" color = #2a7bbd> String Methods</font></h2>"
   ]
  },
  {
   "cell_type": "code",
   "execution_count": 4,
   "id": "violent-cosmetic",
   "metadata": {
    "slideshow": {
     "slide_type": "subslide"
    }
   },
   "outputs": [],
   "source": [
    "# Code"
   ]
  },
  {
   "cell_type": "markdown",
   "id": "gorgeous-guatemala",
   "metadata": {
    "slideshow": {
     "slide_type": "slide"
    }
   },
   "source": [
    "<h2><font face= \"Helvetica\" color = #2a7bbd> List Methods</font></h2>"
   ]
  },
  {
   "cell_type": "code",
   "execution_count": 5,
   "id": "meaning-crowd",
   "metadata": {
    "slideshow": {
     "slide_type": "subslide"
    }
   },
   "outputs": [],
   "source": [
    "# Code"
   ]
  },
  {
   "cell_type": "markdown",
   "id": "dressed-hydrogen",
   "metadata": {
    "slideshow": {
     "slide_type": "slide"
    }
   },
   "source": [
    "<h2><font face= \"Helvetica\" color = #2a7bbd> Set Methods</font></h2>"
   ]
  },
  {
   "cell_type": "code",
   "execution_count": 6,
   "id": "gross-bristol",
   "metadata": {
    "slideshow": {
     "slide_type": "subslide"
    }
   },
   "outputs": [],
   "source": [
    "# Code"
   ]
  },
  {
   "cell_type": "markdown",
   "id": "sized-antigua",
   "metadata": {
    "slideshow": {
     "slide_type": "slide"
    }
   },
   "source": [
    "<h2><font face= \"Helvetica\" color = #2a7bbd>Dictionary Methods</font></h2>"
   ]
  },
  {
   "cell_type": "code",
   "execution_count": 7,
   "id": "underlying-practice",
   "metadata": {
    "slideshow": {
     "slide_type": "subslide"
    }
   },
   "outputs": [],
   "source": [
    "# Code\n"
   ]
  },
  {
   "cell_type": "markdown",
   "id": "domestic-lucas",
   "metadata": {
    "slideshow": {
     "slide_type": "slide"
    }
   },
   "source": [
    "<h2><font face= \"Helvetica\" color = #2a7bbd>Tuple Methods</font></h2>"
   ]
  },
  {
   "cell_type": "code",
   "execution_count": 8,
   "id": "swiss-reward",
   "metadata": {
    "slideshow": {
     "slide_type": "subslide"
    }
   },
   "outputs": [],
   "source": [
    "# Code"
   ]
  },
  {
   "cell_type": "markdown",
   "id": "horizontal-irish",
   "metadata": {
    "slideshow": {
     "slide_type": "slide"
    }
   },
   "source": [
    "<h1><font face= \"Helvetica\" color = #2a7bbd>Lambda functions</font></h1>"
   ]
  },
  {
   "cell_type": "code",
   "execution_count": 6,
   "id": "governmental-battery",
   "metadata": {
    "slideshow": {
     "slide_type": "subslide"
    }
   },
   "outputs": [
    {
     "name": "stdout",
     "output_type": "stream",
     "text": [
      "HELLO WORLD\n",
      "HELLO WORLD\n"
     ]
    }
   ],
   "source": [
    "# Code\n",
    "# Normal function\n",
    "\n",
    "# Lamba Function"
   ]
  },
  {
   "cell_type": "markdown",
   "id": "korean-geometry",
   "metadata": {
    "slideshow": {
     "slide_type": "slide"
    }
   },
   "source": [
    "<h1><font face= \"Helvetica\" color = #2a7bbd>Insight - Built in Functions</font></h1>"
   ]
  },
  {
   "cell_type": "markdown",
   "id": "expressed-interval",
   "metadata": {
    "slideshow": {
     "slide_type": "subslide"
    }
   },
   "source": [
    "## print( )"
   ]
  },
  {
   "cell_type": "code",
   "execution_count": 9,
   "id": "offensive-position",
   "metadata": {
    "code_folding": [],
    "slideshow": {
     "slide_type": "subslide"
    }
   },
   "outputs": [],
   "source": [
    "# Code"
   ]
  },
  {
   "cell_type": "markdown",
   "id": "aerial-format",
   "metadata": {
    "slideshow": {
     "slide_type": "subslide"
    }
   },
   "source": [
    "## dir( )"
   ]
  },
  {
   "cell_type": "code",
   "execution_count": 10,
   "id": "hollywood-background",
   "metadata": {
    "slideshow": {
     "slide_type": "subslide"
    }
   },
   "outputs": [],
   "source": [
    "# Code"
   ]
  },
  {
   "cell_type": "markdown",
   "id": "improved-boost",
   "metadata": {
    "slideshow": {
     "slide_type": "subslide"
    }
   },
   "source": [
    "## enumerate( )"
   ]
  },
  {
   "cell_type": "code",
   "execution_count": 11,
   "id": "statutory-porter",
   "metadata": {
    "slideshow": {
     "slide_type": "subslide"
    }
   },
   "outputs": [],
   "source": [
    "# Code"
   ]
  },
  {
   "cell_type": "markdown",
   "id": "extraordinary-extreme",
   "metadata": {
    "slideshow": {
     "slide_type": "subslide"
    }
   },
   "source": [
    "## map( ) and filter( )\n",
    "\n",
    "### - map(function, iterable)\n",
    "\n",
    "### - filter(function, Iterable)"
   ]
  },
  {
   "cell_type": "code",
   "execution_count": 13,
   "id": "qualified-dayton",
   "metadata": {
    "scrolled": false,
    "slideshow": {
     "slide_type": "subslide"
    }
   },
   "outputs": [],
   "source": [
    "# Code\n",
    "\n",
    "# map function\n",
    "\n",
    "# filter function"
   ]
  },
  {
   "cell_type": "markdown",
   "id": "impossible-paper",
   "metadata": {
    "slideshow": {
     "slide_type": "subslide"
    }
   },
   "source": [
    "## open( )"
   ]
  },
  {
   "cell_type": "code",
   "execution_count": 232,
   "id": "japanese-myrtle",
   "metadata": {
    "slideshow": {
     "slide_type": "subslide"
    }
   },
   "outputs": [],
   "source": [
    "# Code"
   ]
  },
  {
   "cell_type": "markdown",
   "id": "golden-heaven",
   "metadata": {
    "slideshow": {
     "slide_type": "subslide"
    }
   },
   "source": [
    "## input()"
   ]
  },
  {
   "cell_type": "code",
   "execution_count": 14,
   "id": "sudden-cambodia",
   "metadata": {
    "slideshow": {
     "slide_type": "subslide"
    }
   },
   "outputs": [],
   "source": [
    "# Code"
   ]
  },
  {
   "cell_type": "markdown",
   "id": "recovered-financing",
   "metadata": {
    "slideshow": {
     "slide_type": "subslide"
    }
   },
   "source": [
    "## reversed( )"
   ]
  },
  {
   "cell_type": "code",
   "execution_count": null,
   "id": "dominant-pocket",
   "metadata": {
    "slideshow": {
     "slide_type": "subslide"
    }
   },
   "outputs": [],
   "source": [
    "# Code"
   ]
  },
  {
   "cell_type": "markdown",
   "id": "boolean-nicaragua",
   "metadata": {
    "slideshow": {
     "slide_type": "subslide"
    }
   },
   "source": [
    "## sorted( )"
   ]
  },
  {
   "cell_type": "code",
   "execution_count": 15,
   "id": "decreased-locking",
   "metadata": {
    "scrolled": true,
    "slideshow": {
     "slide_type": "subslide"
    }
   },
   "outputs": [],
   "source": [
    "# Code"
   ]
  },
  {
   "cell_type": "markdown",
   "id": "empirical-spectacular",
   "metadata": {
    "slideshow": {
     "slide_type": "slide"
    }
   },
   "source": [
    "<h1><font face= \"Helvetica\" color = #2a7bbd>Importing </font></h1>"
   ]
  },
  {
   "cell_type": "code",
   "execution_count": 16,
   "id": "royal-transaction",
   "metadata": {
    "slideshow": {
     "slide_type": "subslide"
    }
   },
   "outputs": [],
   "source": [
    "# Code\n",
    "# Example"
   ]
  },
  {
   "cell_type": "markdown",
   "id": "disciplinary-belarus",
   "metadata": {
    "slideshow": {
     "slide_type": "slide"
    }
   },
   "source": [
    "<h1><font face= \"Helvetica\" color = #2a7bbd>Difference between Modules and Packages </font></h1>"
   ]
  },
  {
   "cell_type": "markdown",
   "id": "international-canon",
   "metadata": {
    "slideshow": {
     "slide_type": "subslide"
    }
   },
   "source": [
    "<h6><font face= \"Helvetica\" color = #273746>MODULE: The module is a simple Python file that contains collections of functions and global variables and with having a .py extension file</font></h6>\n",
    "<h6><font face= \"Helvetica\" color = #6a1b9a>PACKAGE: The package is a simple directory having collections of modules. This directory contains Python modules and also having __init__.py file by which the interpreter interprets it as a Package. The package is simply a namespace. The package also contains sub-packages inside it.</font></h6>\n"
   ]
  },
  {
   "cell_type": "code",
   "execution_count": 29,
   "id": "moved-resort",
   "metadata": {
    "slideshow": {
     "slide_type": "subslide"
    }
   },
   "outputs": [],
   "source": [
    "# Code"
   ]
  },
  {
   "cell_type": "markdown",
   "id": "marine-climb",
   "metadata": {
    "slideshow": {
     "slide_type": "slide"
    }
   },
   "source": [
    "<h1><font face= \"Helvetica\" color = #2a7bbd>Type Hints </font></h1>"
   ]
  },
  {
   "cell_type": "markdown",
   "id": "abandoned-blond",
   "metadata": {
    "slideshow": {
     "slide_type": "subslide"
    }
   },
   "source": [
    "<h2><font face= \"Helvetica\" color =   #5f6a6a>Adding Types to a Function</font></h2>"
   ]
  },
  {
   "cell_type": "code",
   "execution_count": 17,
   "id": "single-messenger",
   "metadata": {
    "slideshow": {
     "slide_type": "subslide"
    }
   },
   "outputs": [],
   "source": [
    "\n",
    "# Code"
   ]
  },
  {
   "cell_type": "markdown",
   "id": "continuing-chinese",
   "metadata": {
    "slideshow": {
     "slide_type": "subslide"
    }
   },
   "source": [
    "<h2><font face= \"Helvetica\" color =  #5f6a6a>Named Tuple</font></h2>"
   ]
  },
  {
   "cell_type": "code",
   "execution_count": 18,
   "id": "familiar-campbell",
   "metadata": {
    "slideshow": {
     "slide_type": "subslide"
    }
   },
   "outputs": [],
   "source": [
    "# Code"
   ]
  },
  {
   "cell_type": "markdown",
   "id": "mysterious-brand",
   "metadata": {
    "slideshow": {
     "slide_type": "subslide"
    }
   },
   "source": [
    "<h2><font face= \"Helvetica\" color =  #5f6a6a>Generic Types</font></h2>"
   ]
  },
  {
   "cell_type": "code",
   "execution_count": 96,
   "id": "norwegian-cream",
   "metadata": {
    "slideshow": {
     "slide_type": "subslide"
    }
   },
   "outputs": [],
   "source": [
    "# Code"
   ]
  },
  {
   "cell_type": "markdown",
   "id": "identified-contrary",
   "metadata": {
    "slideshow": {
     "slide_type": "subslide"
    }
   },
   "source": [
    "<h2><font face= \"Helvetica\" color = #5f6a6a>Variables and Attributes</font></h2>"
   ]
  },
  {
   "cell_type": "code",
   "execution_count": 19,
   "id": "statewide-specific",
   "metadata": {
    "slideshow": {
     "slide_type": "subslide"
    }
   },
   "outputs": [],
   "source": [
    "# Code"
   ]
  },
  {
   "cell_type": "markdown",
   "id": "characteristic-wrist",
   "metadata": {
    "slideshow": {
     "slide_type": "subslide"
    }
   },
   "source": [
    "<h2><font face= \"Helvetica\" color = #5f6a6a>Class Members and Methods</font></h2>"
   ]
  },
  {
   "cell_type": "code",
   "execution_count": 20,
   "id": "exclusive-description",
   "metadata": {
    "slideshow": {
     "slide_type": "subslide"
    }
   },
   "outputs": [],
   "source": [
    "# Code"
   ]
  },
  {
   "cell_type": "markdown",
   "id": "surface-invitation",
   "metadata": {
    "slideshow": {
     "slide_type": "subslide"
    }
   },
   "source": [
    "<h2><font face= \"Helvetica\" color = #5f6a6a>type hints for keyword arguments</font></h2>"
   ]
  },
  {
   "cell_type": "code",
   "execution_count": 21,
   "id": "fabulous-sapphire",
   "metadata": {
    "slideshow": {
     "slide_type": "subslide"
    }
   },
   "outputs": [],
   "source": [
    "# Code"
   ]
  }
 ],
 "metadata": {
  "celltoolbar": "Slideshow",
  "hide_input": false,
  "kernelspec": {
   "display_name": "Python 3",
   "language": "python",
   "name": "python3"
  },
  "language_info": {
   "codemirror_mode": {
    "name": "ipython",
    "version": 3
   },
   "file_extension": ".py",
   "mimetype": "text/x-python",
   "name": "python",
   "nbconvert_exporter": "python",
   "pygments_lexer": "ipython3",
   "version": "3.9.4"
  },
  "toc": {
   "base_numbering": 1,
   "nav_menu": {},
   "number_sections": true,
   "sideBar": true,
   "skip_h1_title": false,
   "title_cell": "Table of Contents",
   "title_sidebar": "Contents",
   "toc_cell": false,
   "toc_position": {
    "height": "calc(100% - 180px)",
    "left": "10px",
    "top": "150px",
    "width": "164.994px"
   },
   "toc_section_display": true,
   "toc_window_display": false
  }
 },
 "nbformat": 4,
 "nbformat_minor": 5
}
